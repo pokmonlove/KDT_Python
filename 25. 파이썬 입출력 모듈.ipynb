{
 "cells": [
  {
   "cell_type": "markdown",
   "id": "541c6010-1868-4974-923f-79e87888a52c",
   "metadata": {},
   "source": [
    "# **1. OS**\n",
    "\n",
    "파이썬의 os 모듈은 운영 체제와 상호 작용하는 많은 함수와 유틸리티를 제공합니다. 이 모듈을 사용하면 파일, 디렉터리 또는 운영 체제에 관한 작업을 수행할 수 있습니다."
   ]
  },
  {
   "cell_type": "code",
   "execution_count": 1,
   "id": "82b057ac-f6d2-43ed-a6ba-f996054dabec",
   "metadata": {},
   "outputs": [],
   "source": [
    "import os"
   ]
  },
  {
   "cell_type": "code",
   "execution_count": 2,
   "id": "12de2b12-cdf3-4129-abc1-02937f728236",
   "metadata": {},
   "outputs": [
    {
     "data": {
      "text/plain": [
       "'C:\\\\Namhee_KDT\\\\JupyterNotebook'"
      ]
     },
     "execution_count": 2,
     "metadata": {},
     "output_type": "execute_result"
    }
   ],
   "source": [
    "os.getcwd() #현재 작업 디렉토리를 반환합니다"
   ]
  },
  {
   "cell_type": "code",
   "execution_count": 5,
   "id": "7e0a8ec9-7362-43f2-a057-7995af4340de",
   "metadata": {},
   "outputs": [
    {
     "data": {
      "text/plain": [
       "['.ipynb_checkpoints',\n",
       " '25. 파이썬 입출력.ipynb',\n",
       " '텍스트파일1.txt',\n",
       " '텍스트파일2.txt',\n",
       " '텍스트파일3.txt']"
      ]
     },
     "execution_count": 5,
     "metadata": {},
     "output_type": "execute_result"
    }
   ],
   "source": [
    "#디렉토리 안의 파일을 리스트로 반환\n",
    "os.listdir(os.getcwd())"
   ]
  },
  {
   "cell_type": "code",
   "execution_count": 10,
   "id": "a8d93fbb-a7cd-4b94-bd79-53a1c9d31572",
   "metadata": {},
   "outputs": [
    {
     "name": "stdout",
     "output_type": "stream",
     "text": [
      "./data/output.txt\n"
     ]
    }
   ],
   "source": [
    "#특정 경로 만들기 #파일명과 경로를 합쳐준다 #그냥 슬래쉬(/ 또는 \\)로 결합해주는 역할을 한다.\n",
    "data_dir=\"./data/\"\n",
    "file_path=os.path.join(data_dir,\"output.txt\")\n",
    "print(file_path)"
   ]
  },
  {
   "cell_type": "markdown",
   "id": "144bbffc-d491-4c48-849c-fe3e8626f2d1",
   "metadata": {},
   "source": [
    "https://yganalyst.github.io/data_handling/memo_1/ 참고"
   ]
  },
  {
   "cell_type": "markdown",
   "id": "0c9babaa-2111-40fc-a21f-c93e8ff20118",
   "metadata": {},
   "source": [
    "# **2. glob**\n",
    "glob 모듈은 파일과 폴더 이름을 찾을 때 사용하는 파이썬의 도구입니다. 이 모듈의 이름은 \"전역적으로 찾기\"라는 의미의 \"global\"에서 유래했습니다. glob는 특정 패턴에 일치하는 파일이나 폴더 이름을 쉽게 찾아줍니다."
   ]
  },
  {
   "cell_type": "code",
   "execution_count": 6,
   "id": "b885fc1b-3857-49b6-8b4a-33a19681cc66",
   "metadata": {},
   "outputs": [],
   "source": [
    "import glob"
   ]
  },
  {
   "cell_type": "code",
   "execution_count": 9,
   "id": "5c21399e-e4ee-4ac4-b4ac-5663424d17c9",
   "metadata": {},
   "outputs": [
    {
     "data": {
      "text/plain": [
       "['./data\\\\텍스트파일1.txt', './data\\\\텍스트파일2.txt', './data\\\\텍스트파일3.txt']"
      ]
     },
     "execution_count": 9,
     "metadata": {},
     "output_type": "execute_result"
    }
   ],
   "source": [
    "glob.glob(os.path.join('./data','*.txt'))"
   ]
  },
  {
   "cell_type": "code",
   "execution_count": 12,
   "id": "197bfa26-048b-4d99-b766-032a4dbdbf0b",
   "metadata": {},
   "outputs": [
    {
     "data": {
      "text/plain": [
       "'.\\\\data\\\\*.txt'"
      ]
     },
     "execution_count": 12,
     "metadata": {},
     "output_type": "execute_result"
    }
   ],
   "source": [
    "os.path.join('.\\data','*.txt')"
   ]
  },
  {
   "cell_type": "code",
   "execution_count": 18,
   "id": "eefc7bd1-0ef7-4d42-9830-e41cc1854a8f",
   "metadata": {},
   "outputs": [
    {
     "name": "stdout",
     "output_type": "stream",
     "text": [
      "바나나.txt\n",
      "사과.txt\n",
      "오렌지.txt\n",
      "텍스트파일1.txt\n",
      "텍스트파일2.txt\n",
      "텍스트파일3.txt\n"
     ]
    }
   ],
   "source": [
    "# 현재 디렉토리 txt 파일 찾기\n",
    "for filename in glob.glob('*.txt'):\n",
    "    print(filename)"
   ]
  },
  {
   "cell_type": "code",
   "execution_count": 19,
   "id": "0fca2a1d-626c-4e21-8760-27fe1800416d",
   "metadata": {},
   "outputs": [
    {
     "name": "stdout",
     "output_type": "stream",
     "text": [
      "data\\텍스트파일1.txt\n",
      "data\\텍스트파일2.txt\n",
      "data\\텍스트파일3.txt\n"
     ]
    }
   ],
   "source": [
    "# 특정 폴더 안에 있는 txt 파일만 찾습니다 (하위 경로)\n",
    "for filename in glob.glob('**/*.txt'): \n",
    "    print(filename)"
   ]
  },
  {
   "cell_type": "code",
   "execution_count": 20,
   "id": "e303962f-9db8-4fa8-95ab-53ab47a70537",
   "metadata": {},
   "outputs": [
    {
     "name": "stdout",
     "output_type": "stream",
     "text": [
      "바나나.txt\n",
      "사과.txt\n",
      "오렌지.txt\n",
      "텍스트파일1.txt\n",
      "텍스트파일2.txt\n",
      "텍스트파일3.txt\n",
      "data\\텍스트파일1.txt\n",
      "data\\텍스트파일2.txt\n",
      "data\\텍스트파일3.txt\n"
     ]
    }
   ],
   "source": [
    "#현재 디렉토리와 하위 경로의 txt 파일 모두 찾기\n",
    "for filename in glob.glob('**/*.txt', recursive=True):\n",
    "    print(filename)"
   ]
  },
  {
   "cell_type": "code",
   "execution_count": 21,
   "id": "3b2afc50-7447-44f4-96a7-368705938309",
   "metadata": {},
   "outputs": [
    {
     "name": "stdout",
     "output_type": "stream",
     "text": [
      "바나나.txt\n",
      "오렌지.txt\n"
     ]
    }
   ],
   "source": [
    "# 파일명 글자수 및 모든 확장자명으로 찾기\n",
    "for filename in glob.glob('???.*', recursive=True): # 파일명 세 글자 짜리만 찾음\n",
    "    print(filename)"
   ]
  },
  {
   "cell_type": "code",
   "execution_count": 22,
   "id": "e347fd75-1d51-495d-810c-2ef8e9f056fa",
   "metadata": {},
   "outputs": [
    {
     "name": "stdout",
     "output_type": "stream",
     "text": [
      "25. 파이썬 입출력 모듈.ipynb\n",
      "사과.txt\n"
     ]
    }
   ],
   "source": [
    "# 파일명 글자수 및 모든 확장자명으로 찾기\n",
    "for filename in glob.glob('??.*', recursive=True): # 파일명 세 글자 짜리만 찾음\n",
    "    print(filename)"
   ]
  },
  {
   "cell_type": "code",
   "execution_count": 30,
   "id": "5f574b5e-8a60-4fae-b70d-fd5ed588eb4b",
   "metadata": {},
   "outputs": [
    {
     "name": "stdout",
     "output_type": "stream",
     "text": [
      "abcdef.txt\n"
     ]
    }
   ],
   "source": [
    "# 문자열 패턴 포함 파일명으로 찾기\n",
    "for filename in glob.glob('[a-z][a-z][a-z][a-z][a-z][a-z].*', recursive=True): # []: 1글자가 a-z 범위, 6글자, 확장자 상관 x\n",
    "    print(filename)"
   ]
  },
  {
   "cell_type": "code",
   "execution_count": 29,
   "id": "d6d60013-643f-4dad-b528-05b3ded29bea",
   "metadata": {},
   "outputs": [
    {
     "name": "stdout",
     "output_type": "stream",
     "text": [
      "바나나.txt\n",
      "오렌지.txt\n"
     ]
    }
   ],
   "source": [
    "# 문자열 패턴 포함 파일명으로 찾기\n",
    "for filename in glob.glob('[가-힣][가-힣][가-힣].*', recursive=True): # []: 1글자가 가-힣(한글) 범위, 6글자, 확장자 상관 x\n",
    "    print(filename)"
   ]
  },
  {
   "cell_type": "code",
   "execution_count": 36,
   "id": "0eadf169-295a-46ad-a80a-a3276b3321f4",
   "metadata": {},
   "outputs": [
    {
     "name": "stdout",
     "output_type": "stream",
     "text": [
      "data\\텍스트파일1.txt\n",
      "data\\텍스트파일2.txt\n",
      "data\\텍스트파일3.txt\n"
     ]
    }
   ],
   "source": [
    "# 문자열 패턴 포함 파일명으로 찾기\n",
    "for filename in glob.glob('**/텍스*.*'):\n",
    "    print(filename)"
   ]
  },
  {
   "cell_type": "code",
   "execution_count": 35,
   "id": "a1d13674-a542-4fe8-9033-61c16e96a414",
   "metadata": {},
   "outputs": [
    {
     "name": "stdout",
     "output_type": "stream",
     "text": [
      "data\\텍스트파일1.txt\n",
      "data\\텍스트파일2.txt\n",
      "data\\텍스트파일3.txt\n"
     ]
    }
   ],
   "source": [
    "# 문자열 패턴 포함 파일명으로 찾기\n",
    "for filename in glob.glob('**/*파일*.*'):\n",
    "    print(filename)"
   ]
  },
  {
   "cell_type": "markdown",
   "id": "d1c64a4b-3f70-4e4c-b745-9095e2dcc99c",
   "metadata": {},
   "source": [
    "# **3. shutill**\n",
    "shutil 모듈은 파이썬에서 고수준 파일 연산을 수행하기 위한 유틸리티 모듈입니다. 기본적인 os 모듈에서 제공하는 기능을 확장하여, 파일 및 디렉터리를 복사, 이동, 삭제하는 데 사용할 수 있는 더 다양한 함수를 제공합니다.\n"
   ]
  },
  {
   "cell_type": "code",
   "execution_count": 39,
   "id": "8639ca91-a54b-4aa0-913d-e8b4ae17c31a",
   "metadata": {},
   "outputs": [],
   "source": [
    "import shutil"
   ]
  },
  {
   "cell_type": "code",
   "execution_count": 40,
   "id": "d27ce0a5-2461-43ea-8d70-e3f0f5306414",
   "metadata": {},
   "outputs": [
    {
     "data": {
      "text/plain": [
       "'사과_복사본.txt'"
      ]
     },
     "execution_count": 40,
     "metadata": {},
     "output_type": "execute_result"
    }
   ],
   "source": [
    "# 파일 복사\n",
    "shutil.copy(\"사과.txt\",\"사과_복사본.txt\") # 원본 파일의 경로"
   ]
  },
  {
   "cell_type": "code",
   "execution_count": 41,
   "id": "dc34feb7-68f4-4e6b-8326-9dd9f38e6a78",
   "metadata": {},
   "outputs": [
    {
     "data": {
      "text/plain": [
       "'data/사과_이동'"
      ]
     },
     "execution_count": 41,
     "metadata": {},
     "output_type": "execute_result"
    }
   ],
   "source": [
    "# 파일 이동\n",
    "shutil.move('사과.txt', 'data/사과_이동') #이름을 바꾸며 이동한다"
   ]
  },
  {
   "cell_type": "code",
   "execution_count": 42,
   "id": "5872b810-2b0b-4f63-8ad4-ad1e742aa942",
   "metadata": {},
   "outputs": [
    {
     "data": {
      "text/plain": [
       "'파이썬 파일.py'"
      ]
     },
     "execution_count": 42,
     "metadata": {},
     "output_type": "execute_result"
    }
   ],
   "source": [
    "# 확장명 바꾸기\n",
    "shutil.move('abcdef.txt', \"파이썬 파일.py\") #이름과 확장자명을 바꾸며 이동한다"
   ]
  },
  {
   "cell_type": "markdown",
   "id": "758d85e4-ad5d-4f48-b0ff-495c9db8d1e4",
   "metadata": {},
   "source": [
    "# **4. fnmatch**\n",
    "파일 이름을 패턴 매칭할 때 사용하는 모듈"
   ]
  },
  {
   "cell_type": "code",
   "execution_count": 46,
   "id": "a7bfbd26-2592-4d8f-bcd5-8cb5fe577526",
   "metadata": {},
   "outputs": [],
   "source": [
    "import fnmatch"
   ]
  },
  {
   "cell_type": "code",
   "execution_count": 49,
   "id": "c15fd533-9638-406d-b9c6-6b1d8d56f4dc",
   "metadata": {},
   "outputs": [
    {
     "name": "stdout",
     "output_type": "stream",
     "text": [
      "True\n",
      "False\n"
     ]
    }
   ],
   "source": [
    "# 파일 이름이 패턴에 맞는지 확인\n",
    "print(fnmatch.fnmatch('example.txt','*.txt'))\n",
    "print(fnmatch.fnmatch('example.py','*.txt'))"
   ]
  },
  {
   "cell_type": "code",
   "execution_count": 59,
   "id": "aa6cfbb4-8bbf-4be7-8fdd-92b663c27a3c",
   "metadata": {},
   "outputs": [
    {
     "name": "stdout",
     "output_type": "stream",
     "text": [
      "텍스트파일1.txt\n",
      "텍스트파일2.txt\n",
      "텍스트파일3.txt\n"
     ]
    }
   ],
   "source": [
    "for filename in os.listdir(\"data\"):\n",
    "    if fnmatch.fnmatch(filename, '?????[0-9].txt'):\n",
    "                       print(filename)"
   ]
  },
  {
   "cell_type": "code",
   "execution_count": 53,
   "id": "28c33b7d-ad92-4deb-a899-8569dbeaa62c",
   "metadata": {},
   "outputs": [
    {
     "data": {
      "text/plain": [
       "['.DS_Store', '사과_이동', '텍스트파일1.txt', '텍스트파일2.txt', '텍스트파일3.txt']"
      ]
     },
     "execution_count": 53,
     "metadata": {},
     "output_type": "execute_result"
    }
   ],
   "source": [
    "os.listdir(\"data\")"
   ]
  },
  {
   "cell_type": "markdown",
   "id": "e0a9f026-0052-4ad9-abba-184872cb76e3",
   "metadata": {},
   "source": [
    "# **5. pathlib**\n",
    "\n",
    "디렉토리의 경로를 객체 지향 방식으로 다룰 수 있께 도와주는 모듈"
   ]
  },
  {
   "cell_type": "code",
   "execution_count": 61,
   "id": "15a3296c-e3bb-4010-b82e-e34f99b68a80",
   "metadata": {},
   "outputs": [],
   "source": [
    "from pathlib import Path"
   ]
  },
  {
   "cell_type": "code",
   "execution_count": 62,
   "id": "499f3ee6-7c90-46a1-8ad9-871295530909",
   "metadata": {},
   "outputs": [
    {
     "name": "stdout",
     "output_type": "stream",
     "text": [
      ".\n"
     ]
    }
   ],
   "source": [
    "current_path = Path(\".\")\n",
    "print(current_path)"
   ]
  },
  {
   "cell_type": "code",
   "execution_count": 63,
   "id": "89e2d77e-79a8-4fbc-87b4-01b64f7023f1",
   "metadata": {},
   "outputs": [
    {
     "name": "stdout",
     "output_type": "stream",
     "text": [
      "data\\file.txt\n"
     ]
    }
   ],
   "source": [
    "file_path=Path('data/file.txt')\n",
    "print(file_path)"
   ]
  },
  {
   "cell_type": "code",
   "execution_count": 66,
   "id": "93831cd2-6789-4e69-bfec-e3cd413e5860",
   "metadata": {},
   "outputs": [
    {
     "name": "stdout",
     "output_type": "stream",
     "text": [
      "data\\file.txt\n"
     ]
    }
   ],
   "source": [
    "# 경로 만들기\n",
    "new_path=Path('data') / 'file.txt'\n",
    "print(new_path)"
   ]
  },
  {
   "cell_type": "code",
   "execution_count": 68,
   "id": "8258b645-38a8-40ed-a8d5-17d136d3dbab",
   "metadata": {},
   "outputs": [
    {
     "name": "stdout",
     "output_type": "stream",
     "text": [
      "파일이 존재합니다.\n"
     ]
    }
   ],
   "source": [
    "#디렉토리 작업\n",
    "file_path=Path('data/텍스트파일1.txt')\n",
    "if file_path.exists():\n",
    "    print(\"파일이 존재합니다.\")\n",
    "else:\n",
    "    print(\"파일이 존재하지 않습니다.\")"
   ]
  },
  {
   "cell_type": "code",
   "execution_count": 69,
   "id": "640d4930-d550-4dbc-a05e-d38c78c990e3",
   "metadata": {},
   "outputs": [
    {
     "name": "stdout",
     "output_type": "stream",
     "text": [
      "파일이 존재합니다.\n"
     ]
    }
   ],
   "source": [
    "#디렉토리 작업\n",
    "file_path=Path('data\\텍스트파일1.txt')\n",
    "if file_path.exists():\n",
    "    print(\"파일이 존재합니다.\")\n",
    "else:\n",
    "    print(\"파일이 존재하지 않습니다.\")"
   ]
  },
  {
   "cell_type": "code",
   "execution_count": 72,
   "id": "7961682a-ceb5-43af-9fe1-73b186e58605",
   "metadata": {},
   "outputs": [],
   "source": [
    "dir_path = Path(\"data/user/new_folder\")\n",
    "#parents: 상위 디렉토리까지 자동으로 생성한다 #new folder가 없다? user도 만든다\n",
    "#exist_ok: 이미 디렉토리가 있어도 오류를 발생시키지 않는다\n",
    "dir_path.mkdir(parents=True, exist_ok=True)"
   ]
  },
  {
   "cell_type": "markdown",
   "id": "b2284e94-1219-4157-a3f0-fec5122d5290",
   "metadata": {},
   "source": [
    "# **6. zipfile**\n",
    "* zip 파일을 읽고 쓰기 위한 표준 라이브러리\n",
    "* 데이터를 효율적으로 저장하거나 전송할 때 사용(여러 개의 파일을 하나로 묶고, 크기를 줄임)\n"
   ]
  },
  {
   "cell_type": "code",
   "execution_count": 73,
   "id": "d8a35c51-1572-47ed-af9e-f1afb1968b2e",
   "metadata": {},
   "outputs": [],
   "source": [
    "import zipfile"
   ]
  },
  {
   "cell_type": "code",
   "execution_count": 75,
   "id": "c8b568cb-e4ea-4d62-a529-b612c44945e3",
   "metadata": {},
   "outputs": [],
   "source": [
    "# 압축하기\n",
    "with zipfile.ZipFile('data/새파일.zip','w') as myzip:\n",
    "    myzip.write('data/텍스트파일1.txt')\n",
    "    myzip.write('data/텍스트파일2.txt')\n",
    "    myzip.write('data/텍스트파일3.txt')\n",
    "    myzip.write('data/사과_이동.txt')"
   ]
  },
  {
   "cell_type": "code",
   "execution_count": 78,
   "id": "1d080314-04ba-44ae-af0b-242efbe6241a",
   "metadata": {},
   "outputs": [
    {
     "name": "stdout",
     "output_type": "stream",
     "text": [
      "['data/텍스트파일1.txt', 'data/텍스트파일2.txt', 'data/텍스트파일3.txt', 'data/사과_이동.txt']\n",
      "1. 안녕하세요! 파이썬!\n",
      "2. 안녕하세요! 파이썬!\n",
      "3. 안녕하세요! 파이썬!\n",
      "4. 안녕하세요! 파이썬!\n",
      "5. 안녕하세요! 파이썬!\n"
     ]
    }
   ],
   "source": [
    "# 압축 파일 내용 확인\n",
    "with zipfile.ZipFile('data/새파일.zip','r') as myzip:\n",
    "    print(myzip.namelist())\n",
    "    with myzip.open('data/텍스트파일1.txt') as myfile:\n",
    "        print(myfile.read().decode())"
   ]
  },
  {
   "cell_type": "code",
   "execution_count": 86,
   "id": "2ad1bb15-f006-4b78-ba56-b39fee63ce84",
   "metadata": {},
   "outputs": [],
   "source": [
    "# 압축 풀기\n",
    "with zipfile.ZipFile('data/새파일.zip', 'r') as myzip:\n",
    "    myzip.extractall()"
   ]
  },
  {
   "cell_type": "code",
   "execution_count": 83,
   "id": "0acc015c-c741-4514-9d3a-2bdbf2f170e7",
   "metadata": {},
   "outputs": [],
   "source": [
    "# 특정 파일만 압축 풀기(개별 압축)\n",
    "with zipfile.ZipFile('data/새파일.zip', 'r') as myzip:\n",
    "    myzip.extract('data/사과_이동.txt','output_dir')"
   ]
  },
  {
   "cell_type": "code",
   "execution_count": 91,
   "id": "6f54d8da-9907-4fd9-a56f-f9a6b530906b",
   "metadata": {},
   "outputs": [
    {
     "name": "stderr",
     "output_type": "stream",
     "text": [
      "C:\\Users\\sm\\AppData\\Local\\Programs\\Python\\Python311\\Lib\\zipfile.py:1566: UserWarning: Duplicate name: '바나나.txt'\n",
      "  return self._open_to_write(zinfo, force_zip64=force_zip64)\n"
     ]
    }
   ],
   "source": [
    "with zipfile.ZipFile('data/새파일.zip', 'a') as myzip:\n",
    "    myzip.write('바나나.txt')"
   ]
  },
  {
   "cell_type": "markdown",
   "id": "fe0610ba-a0a6-489b-a29b-8e5c8c05d963",
   "metadata": {},
   "source": [
    "# **7. openpyxl**\n",
    "\n",
    "파이썬에서 엑셀 파일을 읽고 쓰고 수정할 수 있게 해 주는 모듈"
   ]
  },
  {
   "cell_type": "code",
   "execution_count": 96,
   "id": "a8487c86-9cf7-40b8-8e71-48153c1cf98f",
   "metadata": {},
   "outputs": [
    {
     "name": "stderr",
     "output_type": "stream",
     "text": [
      "\n",
      "[notice] A new release of pip is available: 24.0 -> 24.2\n",
      "[notice] To update, run: python.exe -m pip install --upgrade pip\n"
     ]
    }
   ],
   "source": [
    "!pip install -q openpyxl "
   ]
  },
  {
   "cell_type": "code",
   "execution_count": null,
   "id": "2e9c67f4-e8de-4af8-bb6e-1ef7b24abafb",
   "metadata": {},
   "outputs": [],
   "source": [
    "#-p 옵션: 설치 내용은 간략히 해 준다"
   ]
  },
  {
   "cell_type": "code",
   "execution_count": 98,
   "id": "a5c0b8bd-8663-482c-8f33-fa8deb4d62cc",
   "metadata": {},
   "outputs": [],
   "source": [
    "import openpyxl as opx"
   ]
  },
  {
   "cell_type": "code",
   "execution_count": 105,
   "id": "78d9c25b-c8ae-4526-ba28-500f717ef459",
   "metadata": {},
   "outputs": [],
   "source": [
    "# 엑셀 파일 생성하기\n",
    "#새 워크북 생성\n",
    "wb=opx.Workbook()\n",
    "\n",
    "# 시트 선택 \n",
    "sheet = wb.active\n",
    "\n",
    "#셀에 데이터 쓰기\n",
    "sheet['A1'] = 'hello'\n",
    "sheet['B1'] = \"python\"\n",
    "\n",
    "#엑셀 파일 저장\n",
    "wb.save(\"test.xlsx\")"
   ]
  },
  {
   "cell_type": "code",
   "execution_count": 106,
   "id": "3ffd7330-0635-411d-be46-8c78cdde011c",
   "metadata": {},
   "outputs": [],
   "source": [
    "# 읽어 오기\n",
    "wb = opx.load_workbook(\"test.xlsx\")"
   ]
  },
  {
   "cell_type": "code",
   "execution_count": 107,
   "id": "65526535-0fea-4022-aab5-a1f5a28e3077",
   "metadata": {},
   "outputs": [
    {
     "name": "stdout",
     "output_type": "stream",
     "text": [
      "hello\n",
      "python\n",
      "None\n"
     ]
    }
   ],
   "source": [
    "sheet = wb.active\n",
    "print(sheet['A1'].value)\n",
    "print(sheet['B1'].value)\n",
    "print(sheet['C1'].value)"
   ]
  },
  {
   "cell_type": "code",
   "execution_count": 120,
   "id": "dbd036ad-b80c-4f61-b718-f7df3ee405c1",
   "metadata": {},
   "outputs": [],
   "source": [
    "wb=opx.Workbook()\n",
    "sheet=wb.active\n",
    "sheet.title=\"첫 번째 시트\" #이미 생성된 시트 이름 바꾸기\n",
    "\n",
    "wb.create_sheet(title=\"두 번째 시트\")\n",
    "wb.create_sheet(title=\"세 번째 시트\")\n",
    "\n",
    "sheet2=wb['두 번째 시트']\n",
    "sheet2['A1']=\"두 번째 시트에 데이터 추가\"\n",
    "wb.save(\"test2.xlsx\")"
   ]
  },
  {
   "cell_type": "code",
   "execution_count": null,
   "id": "310f0460-30c8-40bc-9341-8fa8b1d79038",
   "metadata": {},
   "outputs": [],
   "source": [
    "##실습"
   ]
  },
  {
   "cell_type": "code",
   "execution_count": 124,
   "id": "91c008bf-e573-4c8a-b45e-f7d173bbf36b",
   "metadata": {},
   "outputs": [],
   "source": [
    "wb=opx.Workbook()\n",
    "sheet = wb.active\n",
    "#셀에 데이터 쓰기\n",
    "sheet['A1'] = \"이름\"\n",
    "sheet['B1'] = \"점수\""
   ]
  },
  {
   "cell_type": "code",
   "execution_count": 141,
   "id": "133daf61-5759-4071-8fbb-f2d941fb767a",
   "metadata": {},
   "outputs": [
    {
     "name": "stdin",
     "output_type": "stream",
     "text": [
      "이름 입력받기  김남희\n",
      "점수 입력받기  98\n"
     ]
    },
    {
     "name": "stdout",
     "output_type": "stream",
     "text": [
      "김남희\n",
      "98\n"
     ]
    },
    {
     "name": "stdin",
     "output_type": "stream",
     "text": [
      "이름 입력받기  선생님\n",
      "점수 입력받기  100\n"
     ]
    },
    {
     "name": "stdout",
     "output_type": "stream",
     "text": [
      "선생님\n",
      "100\n"
     ]
    },
    {
     "name": "stdin",
     "output_type": "stream",
     "text": [
      "이름 입력받기  나가기\n"
     ]
    }
   ],
   "source": [
    "class Student:\n",
    "    name=\"\"\n",
    "    score=0\n",
    "    def __init__(self, name, score):\n",
    "        self.name= name\n",
    "        self.score=score\n",
    "        \n",
    "while True:\n",
    "    name=input(\"이름 입력받기 \")\n",
    "    if name==\"나가기\":\n",
    "        break\n",
    "    score=input(\"점수 입력받기 \")\n",
    "    \n",
    "    student1=Student(name, score )\n",
    "\n",
    "    print(student1.name)\n",
    "    print(student1.score)"
   ]
  },
  {
   "cell_type": "code",
   "execution_count": 126,
   "id": "a76acd85-2894-408d-8527-55a0379e429b",
   "metadata": {},
   "outputs": [],
   "source": [
    "sheet['A2'] = student1.name\n",
    "sheet['B2'] = 88"
   ]
  },
  {
   "cell_type": "code",
   "execution_count": 128,
   "id": "d8c877bd-3592-4ad8-b50d-ee2e803a193c",
   "metadata": {},
   "outputs": [],
   "source": [
    "#엑셀 파일 저장\n",
    "wb.save(\"student_scores.xlsx\")"
   ]
  },
  {
   "cell_type": "code",
   "execution_count": null,
   "id": "79fc1525-abe2-40d7-8a00-ea63bc7741ba",
   "metadata": {},
   "outputs": [],
   "source": []
  },
  {
   "cell_type": "code",
   "execution_count": null,
   "id": "2ba9421d-bfd0-47f5-a5a4-736f51e985f9",
   "metadata": {},
   "outputs": [],
   "source": [
    "#모범 답안"
   ]
  },
  {
   "cell_type": "code",
   "execution_count": 143,
   "id": "90b10070-947f-442c-b368-30594b3aadd4",
   "metadata": {},
   "outputs": [],
   "source": [
    "wb = opx.Workbook()\n",
    "sheet = wb.active\n",
    "sheet.title = \"학생 명단\"\n",
    "sheet['A1'] = '이름'\n",
    "sheet['B1'] = '점수'\n",
    "students = [\n",
    "    ('김사과', 98),\n",
    "    ('반하나', 85),\n",
    "    ('오렌지', 95),\n",
    "    ('이메론', 76)\n",
    "]\n",
    "for idx, (name, score) in enumerate(students, start=2):\n",
    "    sheet[f'A{idx}'] = name\n",
    "    sheet[f'B{idx}'] = score\n",
    "wb.save('student_scores.xlsx')"
   ]
  },
  {
   "cell_type": "markdown",
   "id": "c2f21acb-e579-4a57-9765-c3bf8572b57e",
   "metadata": {},
   "source": [
    "### 과제:\n",
    "엑셀을 이용한 업무 자동화 프로그램을 만들어 보자\n",
    "주간 업무 보고서 ... 파이썬 이름 부서... 날짜...자동으로\n",
    "\n",
    "엑셀의 특징을 살려 파이썬으로 구현\n",
    "...\n",
    "\n",
    "* 자유롭게 문서 약식을 선택하여 작성\n"
   ]
  }
 ],
 "metadata": {
  "kernelspec": {
   "display_name": "Python 3 (ipykernel)",
   "language": "python",
   "name": "python3"
  },
  "language_info": {
   "codemirror_mode": {
    "name": "ipython",
    "version": 3
   },
   "file_extension": ".py",
   "mimetype": "text/x-python",
   "name": "python",
   "nbconvert_exporter": "python",
   "pygments_lexer": "ipython3",
   "version": "3.11.9"
  }
 },
 "nbformat": 4,
 "nbformat_minor": 5
}
